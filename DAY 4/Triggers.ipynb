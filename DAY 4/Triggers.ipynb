{
 "cells": [
  {
   "cell_type": "code",
   "execution_count": 5,
   "id": "e9b2a0fb",
   "metadata": {},
   "outputs": [],
   "source": [
    "from connection import run_query"
   ]
  },
  {
   "cell_type": "code",
   "execution_count": 6,
   "id": "e3880a44",
   "metadata": {},
   "outputs": [
    {
     "name": "stdout",
     "output_type": "stream",
     "text": [
      " Query executed successfully.\n",
      " Query executed successfully.\n"
     ]
    }
   ],
   "source": [
    "run_query(\"DROP TRIGGER IF EXISTS before_insert_employee_sales;\")\n",
    "\n",
    "trigger_sql = \"\"\"\n",
    "\n",
    "CREATE TRIGGER before_insert_employee_sales\n",
    "BEFORE INSERT ON employee_sales\n",
    "FOR EACH ROW\n",
    "BEGIN\n",
    "    IF NEW.sale_date IS NULL THEN\n",
    "        SET NEW.sale_date = NOW();\n",
    "    END IF;\n",
    "END;\n",
    "\"\"\"\n",
    "\n",
    "run_query(trigger_sql)\n"
   ]
  },
  {
   "cell_type": "code",
   "execution_count": 7,
   "id": "9457da8b",
   "metadata": {},
   "outputs": [
    {
     "name": "stdout",
     "output_type": "stream",
     "text": [
      " Query executed successfully.\n",
      " Query executed successfully.\n"
     ]
    }
   ],
   "source": [
    "run_query(\"DROP TRIGGER IF EXISTS before_insert_employee_sales;\")\n",
    "\n",
    "trigger_sql = \"\"\"\n",
    "\n",
    "CREATE TRIGGER before_insert_employee_sales\n",
    "BEFORE INSERT ON employee_sales\n",
    "FOR EACH ROW\n",
    "BEGIN\n",
    "    -- 2. Validate region\n",
    "    IF NOT (NEW.region IN ('North', 'South', 'East', 'West')) THEN\n",
    "        SIGNAL SQLSTATE '45000'\n",
    "        SET MESSAGE_TEXT = 'Invalid region. Allowed regions are North, South, East, West.';\n",
    "    END IF;\n",
    "END;\n",
    "\n",
    "\"\"\"\n",
    "\n",
    "run_query(trigger_sql)"
   ]
  },
  {
   "cell_type": "code",
   "execution_count": 8,
   "id": "60b387a6",
   "metadata": {},
   "outputs": [
    {
     "name": "stdout",
     "output_type": "stream",
     "text": [
      " Query executed successfully.\n",
      " Query executed successfully.\n"
     ]
    }
   ],
   "source": [
    "run_query(\"DROP TRIGGER IF EXISTS before_insert_employee_sales;\")\n",
    "\n",
    "trigger_sql = \"\"\"\n",
    "CREATE TRIGGER before_insert_employee_sales\n",
    "BEFORE INSERT ON employee_sales\n",
    "FOR EACH ROW\n",
    "BEGIN\n",
    "    -- 3. Round sale_amount to 2 decimal places\n",
    "    SET NEW.sale_amount = ROUND(NEW.sale_amount, 2);\n",
    "END;\n",
    "\n",
    "\"\"\"\n",
    "\n",
    "run_query(trigger_sql)"
   ]
  }
 ],
 "metadata": {
  "kernelspec": {
   "display_name": "env",
   "language": "python",
   "name": "python3"
  },
  "language_info": {
   "codemirror_mode": {
    "name": "ipython",
    "version": 3
   },
   "file_extension": ".py",
   "mimetype": "text/x-python",
   "name": "python",
   "nbconvert_exporter": "python",
   "pygments_lexer": "ipython3",
   "version": "3.13.4"
  }
 },
 "nbformat": 4,
 "nbformat_minor": 5
}
